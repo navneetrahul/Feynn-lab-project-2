{
 "cells": [
  {
   "cell_type": "code",
   "execution_count": null,
   "id": "c10cad2e",
   "metadata": {},
   "outputs": [],
   "source": [
    "%%time\n",
    "# just in-case installs\n",
    "!pip install -U matplotlib\n",
    "!pip install -U bioinfokit\n",
    "!pip install -U yellowbrick\n",
    "!pip install -U statsmodels"
   ]
  },
  {
   "cell_type": "code",
   "execution_count": null,
   "id": "eed87fc1",
   "metadata": {},
   "outputs": [],
   "source": [
    "%%time\n",
    "# importing libraries\n",
    "import pandas as pd\n",
    "import numpy as np\n",
    "import seaborn as sns\n",
    "import matplotlib.pyplot as plt\n",
    "from sklearn.preprocessing import LabelEncoder\n",
    "from sklearn.decomposition import PCA\n",
    "from sklearn import preprocessing\n",
    "from bioinfokit.visuz import cluster\n",
    "from sklearn.cluster import KMeans\n",
    "from yellowbrick.cluster import KElbowVisualizer\n",
    "from collections import Counter\n",
    "from statsmodels.graphics.mosaicplot import mosaic\n",
    "from itertools import product\n",
    "from warnings import filterwarnings\n",
    "filterwarnings(\"ignore\")"
   ]
  },
  {
   "cell_type": "code",
   "execution_count": null,
   "id": "fdd779e6",
   "metadata": {},
   "outputs": [],
   "source": [
    "#Loading the dataset\n",
    "#%%time\n",
    "df=pd.read_csv('mcdonalds_dataset.csv')\n",
    "df.head(20)"
   ]
  },
  {
   "cell_type": "markdown",
   "id": "83644f77",
   "metadata": {},
   "source": [
    "Checking the datatype and missing values"
   ]
  },
  {
   "cell_type": "code",
   "execution_count": null,
   "id": "a67fecf5",
   "metadata": {},
   "outputs": [],
   "source": [
    "df.info()"
   ]
  },
  {
   "cell_type": "markdown",
   "id": "666ad145",
   "metadata": {},
   "source": [
    "**Info**\n",
    "- There is 1 numerical column and 13 categoriacal column according to info."
   ]
  },
  {
   "cell_type": "code",
   "execution_count": null,
   "id": "1652c2d1",
   "metadata": {},
   "outputs": [],
   "source": [
    "#Getting the value counts of 'Like'\n",
    "df['Like'].value_counts()"
   ]
  },
  {
   "cell_type": "code",
   "execution_count": null,
   "id": "f888c2c8",
   "metadata": {
    "scrolled": true
   },
   "outputs": [],
   "source": [
    "#Getting the value counts of 'Age'\n",
    "df['Age'].value_counts()"
   ]
  },
  {
   "cell_type": "code",
   "execution_count": null,
   "id": "a1258289",
   "metadata": {},
   "outputs": [],
   "source": [
    "#Getting the value counts of 'VisitFrequency'\n",
    "df['VisitFrequency'].value_counts()"
   ]
  },
  {
   "cell_type": "markdown",
   "id": "4ae3fd8a",
   "metadata": {},
   "source": [
    "Columns \"Like\" and \"Age\" are having numerical features and \"VisitFrequency\" is having multiclass features."
   ]
  },
  {
   "cell_type": "code",
   "execution_count": null,
   "id": "c92432cc",
   "metadata": {},
   "outputs": [],
   "source": [
    "#Getting the value counts of 'Gender'\n",
    "df['Gender'].value_counts()"
   ]
  },
  {
   "cell_type": "markdown",
   "id": "3397da39",
   "metadata": {},
   "source": [
    "There are 788 females and 665 males present."
   ]
  },
  {
   "cell_type": "markdown",
   "id": "c0d45bc6",
   "metadata": {},
   "source": [
    "## Exploratory Data Analysis"
   ]
  },
  {
   "cell_type": "code",
   "execution_count": null,
   "id": "aec4d17e",
   "metadata": {},
   "outputs": [],
   "source": [
    "import seaborn as sns\n",
    "import matplotlib.pyplot as plt\n",
    "import pandas as pd\n",
    "\n",
    "def EDA(df, figuresize):\n",
    "    cat = []\n",
    "    con = []\n",
    "    from warnings import filterwarnings\n",
    "    filterwarnings(\"ignore\")\n",
    "    u = int((df.shape[1] + 1) / 2)\n",
    "    plt.figure(figsize=figuresize)\n",
    "    x = 1\n",
    "\n",
    "    for i in df.columns:\n",
    "        if df[i].dtypes == \"object\":\n",
    "            cat.append(i)\n",
    "            plt.subplot(u, 2, x)\n",
    "            x = x + 1\n",
    "            sns.countplot(data=df, x=i)\n",
    "        else:\n",
    "            con.append(i)\n",
    "\n",
    "    for i in con:\n",
    "        plt.subplot(u, 2, x)\n",
    "        x = x + 1\n",
    "        sns.distplot(df[i].dropna(), kde=False)  # Exclude missing values\n",
    "\n",
    "    print(df[con].corr())\n",
    "\n",
    "# Applying the function on the dataset\n",
    "EDA(df, (20, 30))\n"
   ]
  },
  {
   "cell_type": "markdown",
   "id": "278b9572",
   "metadata": {},
   "source": [
    "**Inferences**\n",
    "- 1.There are more females than males.\n",
    "- 2.Most of the people visit once a month.\n",
    "- 3.Very less people visit more than once a week.\n",
    "- 4.Nearly 800 people has told that food is yummy.\n",
    "- 5.Most people has termed eating at mcdonalds as less expensive,\n",
    "- 6.Close to 1100 people has termed the food at mcdonalds as not healthy."
   ]
  },
  {
   "cell_type": "code",
   "execution_count": null,
   "id": "5f01d96e",
   "metadata": {},
   "outputs": [],
   "source": [
    "# Demographic segmentation using 'Age' & 'Gender'\n",
    "\n",
    "# Gender: we infer that there are more female customers than male\n",
    "labels = ['Female', 'Male']\n",
    "size = df['Gender'].value_counts()\n",
    "colors = ['pink', 'crimson']\n",
    "explode = [0, 0.1]\n",
    "plt.rcParams['figure.figsize'] = (7, 7)\n",
    "plt.pie(size, colors = colors, explode = explode, labels = labels, shadow = True, autopct = '%.2f%%')\n",
    "plt.title('Gender', fontsize = 20)\n",
    "plt.axis('off')\n",
    "plt.legend()\n",
    "plt.show()\n",
    "\n",
    "# Age: Mcdonalds recieve more customers of age between 50-60 and 35-40\n",
    "plt.rcParams['figure.figsize'] = (25, 8)\n",
    "data = sns.countplot(x=df['Age'], palette = 'viridis')\n",
    "data.bar_label(data.containers[0])\n",
    "plt.title('Age distribution of customers', fontsize = 20)\n",
    "plt.show()"
   ]
  },
  {
   "cell_type": "markdown",
   "id": "fc0e060f",
   "metadata": {},
   "source": [
    "- 1.There are 54.23% female and 45.77% male in the dataset.\n",
    "- 2.There are over 50 people aged 53 that are customer and these are most no. of customers in any age group.\n",
    "- 3.The least age group of people that prefers eating at mcDonalds is 71."
   ]
  },
  {
   "cell_type": "code",
   "execution_count": null,
   "id": "941232e7",
   "metadata": {},
   "outputs": [],
   "source": [
    "# Pyschographic segmentation using 'Like'\n",
    "\n",
    "# renaming the category for convinence \n",
    "df['Like'] = df['Like'].replace({'I hate it!-5': '-5','I love it!+5':'+5'})\n",
    "\n",
    "# plotting the results\n",
    "sns.catplot(data=df, x=\"Like\", y=\"Age\", orient=\"v\", height=5, aspect=2, palette=\"Set2\",kind=\"swarm\")\n",
    "plt.title('Likelyness of McDonald w.r.t Age', fontsize=20)\n",
    "plt.show()"
   ]
  },
  {
   "cell_type": "markdown",
   "id": "03ec1a18",
   "metadata": {},
   "source": [
    "# Data Preprocessing"
   ]
  },
  {
   "cell_type": "code",
   "execution_count": null,
   "id": "62c32b97",
   "metadata": {},
   "outputs": [],
   "source": [
    "# columns other than Like, Age, VisitFrequency, Gender are having binary features in the form of Yes/No only.\n",
    "# so we will perform 'label encoding' for further model building\n",
    "df1 = df.drop(labels=['Like','Age','VisitFrequency','Gender'], axis=1) "
   ]
  },
  {
   "cell_type": "code",
   "execution_count": null,
   "id": "7db5d29d",
   "metadata": {},
   "outputs": [],
   "source": [
    "df1.head()"
   ]
  },
  {
   "cell_type": "markdown",
   "id": "c76accc2",
   "metadata": {},
   "source": [
    "### Label Encoding"
   ]
  },
  {
   "cell_type": "code",
   "execution_count": null,
   "id": "62ba92f1",
   "metadata": {},
   "outputs": [],
   "source": [
    "# LabelEncoder will map 'Yes' to 1 and 'No' to 0\n",
    "df_encoded = df1.apply(LabelEncoder().fit_transform)\n",
    "df_encoded.head()"
   ]
  },
  {
   "cell_type": "markdown",
   "id": "ea16956c",
   "metadata": {},
   "source": [
    "## Using PCA"
   ]
  },
  {
   "cell_type": "code",
   "execution_count": null,
   "id": "0d5b6ef3",
   "metadata": {},
   "outputs": [],
   "source": [
    "# applying scaling and PCA\n",
    "pca_data = preprocessing.scale(df_encoded)\n",
    "pca = PCA(n_components=11)\n",
    "pc = pca.fit_transform(pca_data)\n",
    "names = ['pc1','pc2','pc3','pc4','pc5','pc6','pc7','pc8','pc9','pc10','pc11']\n",
    "pf = pd.DataFrame(data = pc, columns = names)\n",
    "pf.head()"
   ]
  },
  {
   "cell_type": "code",
   "execution_count": null,
   "id": "61e2b1a9",
   "metadata": {},
   "outputs": [],
   "source": [
    "# variance (from PC1 to PC11)\n",
    "pca.explained_variance_ratio_"
   ]
  },
  {
   "cell_type": "code",
   "execution_count": null,
   "id": "09e694ca",
   "metadata": {},
   "outputs": [],
   "source": [
    "# correlation coefficient between original variables and the component\n",
    "loadings = pca.components_\n",
    "num_pc = pca.n_features_\n",
    "pc_list = [\"PC\"+str(i) for i in list(range(1, num_pc+1))]\n",
    "loadings_df = pd.DataFrame.from_dict(dict(zip(pc_list, loadings)))\n",
    "loadings_df['feature'] = df_encoded.columns.values\n",
    "loadings_df = loadings_df.set_index('feature')\n",
    "loadings_df"
   ]
  },
  {
   "cell_type": "code",
   "execution_count": null,
   "id": "a93f3031",
   "metadata": {},
   "outputs": [],
   "source": [
    "# correlation matrix plot for loadings \n",
    "plt.rcParams['figure.figsize'] = (20,15)\n",
    "ax = sns.heatmap(loadings_df, annot=True, cmap='plasma')\n",
    "plt.show()"
   ]
  },
  {
   "cell_type": "code",
   "execution_count": null,
   "id": "bbcf58d8",
   "metadata": {},
   "outputs": [],
   "source": [
    "# get PC scores\n",
    "pca_scores = PCA().fit_transform(pca_data)\n",
    "\n",
    "# get 2D biplot\n",
    "cluster.biplot(cscore=pca_scores, loadings=loadings, labels=df.columns.values, \n",
    "               var1=round(pca.explained_variance_ratio_[0]*100, 2),\n",
    "    var2=round(pca.explained_variance_ratio_[1]*100, 2),show=True,dim=(10,5))"
   ]
  },
  {
   "cell_type": "markdown",
   "id": "ccde6e78",
   "metadata": {},
   "source": [
    "# Applying the Elbow Method"
   ]
  },
  {
   "cell_type": "code",
   "execution_count": null,
   "id": "f918094d",
   "metadata": {},
   "outputs": [],
   "source": [
    "# using k-means clustering analysis for extracting segments\n",
    "model = KMeans()\n",
    "visualizer = KElbowVisualizer(model, k=(1,12)).fit(df_encoded)\n",
    "visualizer.show();"
   ]
  },
  {
   "cell_type": "markdown",
   "id": "c0821b79",
   "metadata": {},
   "source": [
    "# Applying the K-Means Clustering Algorithm"
   ]
  },
  {
   "cell_type": "code",
   "execution_count": null,
   "id": "c548e63b",
   "metadata": {},
   "outputs": [],
   "source": [
    "# k-means clustering \n",
    "kmeans = KMeans(n_clusters=4, init='k-means++', random_state=0).fit(df_encoded)\n",
    "df['cluster_num'] = kmeans.labels_ #adding to df\n",
    "# label assigned for each data point\n",
    "print ('Labels:', kmeans.labels_)\n",
    "# gives within-cluster sum of squares (WCSS) \n",
    "print ('WCSS:', kmeans.inertia_)\n",
    "# number of iterations that k-means algorithm runs to get a minimum within-cluster sum of squares\n",
    "print('No. of iterations: ', kmeans.n_iter_)\n",
    "# location of the centroids on each cluster\n",
    "print('Cluster centroids: ', kmeans.cluster_centers_)\n",
    "# checking each cluster size\n",
    "print('Cluster size: ', Counter(kmeans.labels_))"
   ]
  },
  {
   "cell_type": "code",
   "execution_count": null,
   "id": "495a2252",
   "metadata": {},
   "outputs": [],
   "source": [
    "# cluster visualization\n",
    "sns.scatterplot(data=pf, x=\"pc1\", y=\"pc2\", hue=kmeans.labels_)\n",
    "plt.scatter(kmeans.cluster_centers_[:,0], kmeans.cluster_centers_[:,1], marker=\"X\", c=\"r\", s=80, label=\"centroids\")\n",
    "plt.legend()\n",
    "plt.show()"
   ]
  },
  {
   "cell_type": "markdown",
   "id": "2660f318",
   "metadata": {},
   "source": [
    "## Describing Segments"
   ]
  },
  {
   "cell_type": "code",
   "execution_count": null,
   "id": "cfb98885",
   "metadata": {},
   "outputs": [],
   "source": [
    "# crosstab creation\n",
    "crosstab = pd.crosstab(df['cluster_num'], df['Like'])\n",
    "crosstab = crosstab[['-5','-4','-3','-2','-1','0','+1','+2','+3','+4','+5']]\n",
    "crosstab\n",
    "\n",
    "# plotting mosaic plot\n",
    "plt.rcParams['figure.figsize'] = (7,7)\n",
    "mosaic(crosstab.stack())\n",
    "display(crosstab, plt.show())"
   ]
  },
  {
   "cell_type": "code",
   "execution_count": null,
   "id": "a49722b2",
   "metadata": {},
   "outputs": [],
   "source": [
    "# crosstab creation\n",
    "crosstab_gender = pd.crosstab(df['cluster_num'],df['Gender'])\n",
    "crosstab_gender\n",
    "\n",
    "# plotting mosaic plot\n",
    "plt.rcParams['figure.figsize'] = (7,5)\n",
    "mosaic(crosstab_gender.stack())\n",
    "display(crosstab, plt.show())"
   ]
  },
  {
   "cell_type": "code",
   "execution_count": null,
   "id": "4f69a3b7",
   "metadata": {},
   "outputs": [],
   "source": [
    "# box plot for 'Age'\n",
    "sns.boxplot(x=\"cluster_num\", y=\"Age\", data=df);"
   ]
  },
  {
   "cell_type": "markdown",
   "id": "1a507ebb",
   "metadata": {},
   "source": [
    "# Selecting the Target Segment"
   ]
  },
  {
   "cell_type": "code",
   "execution_count": null,
   "id": "53f8674a",
   "metadata": {},
   "outputs": [],
   "source": [
    "# calculating the mean of 'VisitFrequency'\n",
    "df['VisitFrequency'] = LabelEncoder().fit_transform(df['VisitFrequency'])\n",
    "visit = df.groupby('cluster_num')['VisitFrequency'].mean()\n",
    "visit = visit.to_frame().reset_index()\n",
    "visit"
   ]
  },
  {
   "cell_type": "code",
   "execution_count": null,
   "id": "d0fa0639",
   "metadata": {},
   "outputs": [],
   "source": [
    "# calculating the mean of 'Like'\n",
    "df['Like'] = LabelEncoder().fit_transform(df['Like'])\n",
    "Like = df.groupby('cluster_num')['Like'].mean()\n",
    "Like = Like.to_frame().reset_index()\n",
    "Like"
   ]
  },
  {
   "cell_type": "code",
   "execution_count": null,
   "id": "ff8f8c81",
   "metadata": {},
   "outputs": [],
   "source": [
    "# calculating the mean of 'Gender'\n",
    "df['Gender'] = LabelEncoder().fit_transform(df['Gender'])\n",
    "Gender = df.groupby('cluster_num')['Gender'].mean()\n",
    "Gender = Gender.to_frame().reset_index()\n",
    "Gender"
   ]
  },
  {
   "cell_type": "code",
   "execution_count": null,
   "id": "196f3d8e",
   "metadata": {},
   "outputs": [],
   "source": [
    "segment = Gender.merge(Like, on='cluster_num', how='left').merge(visit, on='cluster_num', how='left')\n",
    "segment"
   ]
  },
  {
   "cell_type": "code",
   "execution_count": null,
   "id": "36e8e02b",
   "metadata": {},
   "outputs": [],
   "source": [
    "# targeting segments\n",
    "plt.figure(figsize = (9,4))\n",
    "sns.scatterplot(x = \"VisitFrequency\", y = \"Like\",data=segment,s=400, color=\"y\")\n",
    "plt.title(\"Simple segment evaluation plot for the fast food data set\", fontsize = 15) \n",
    "plt.xlabel(\"Visit\", fontsize = 12) \n",
    "plt.ylabel(\"Like\", fontsize = 12) \n",
    "plt.show()"
   ]
  }
 ],
 "metadata": {
  "kernelspec": {
   "display_name": "Python 3 (ipykernel)",
   "language": "python",
   "name": "python3"
  },
  "language_info": {
   "codemirror_mode": {
    "name": "ipython",
    "version": 3
   },
   "file_extension": ".py",
   "mimetype": "text/x-python",
   "name": "python",
   "nbconvert_exporter": "python",
   "pygments_lexer": "ipython3",
   "version": "3.10.9"
  }
 },
 "nbformat": 4,
 "nbformat_minor": 5
}
